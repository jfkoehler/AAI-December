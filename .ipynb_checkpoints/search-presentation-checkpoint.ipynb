{
 "cells": [
  {
   "cell_type": "markdown",
   "metadata": {},
   "source": [
    "# Introduction to Search and Graphs\n",
    "\n",
    "**OBJECTIVES**\n",
    "\n",
    "\n",
    "- Build a graph structure from scratch\n",
    "- Review *Depth First Search* and *Breadth First Search*\n",
    "- Implement dfs and bfs in maze solving problem\n",
    "- Introduce $A^*$ search\n",
    "- Discuss computational complexity of search algorithms\n"
   ]
  },
  {
   "cell_type": "code",
   "execution_count": 1,
   "metadata": {},
   "outputs": [],
   "source": [
    "import networkx as nx"
   ]
  },
  {
   "cell_type": "markdown",
   "metadata": {},
   "source": [
    "### Recursion Review"
   ]
  },
  {
   "cell_type": "code",
   "execution_count": 2,
   "metadata": {},
   "outputs": [],
   "source": [
    "from functools import lru_cache"
   ]
  },
  {
   "cell_type": "code",
   "execution_count": 3,
   "metadata": {},
   "outputs": [],
   "source": [
    "#fibonnaci 1, 1, 2, 3, 5, 8\n",
    "@lru_cache\n",
    "def fib(n):\n",
    "    if n < 2:\n",
    "        return n\n",
    "    return fib(n - 1) + fib(n - 2)"
   ]
  },
  {
   "cell_type": "code",
   "execution_count": 4,
   "metadata": {},
   "outputs": [
    {
     "data": {
      "text/plain": [
       "12586269025"
      ]
     },
     "execution_count": 4,
     "metadata": {},
     "output_type": "execute_result"
    }
   ],
   "source": [
    "fib(50)"
   ]
  },
  {
   "cell_type": "markdown",
   "metadata": {},
   "source": [
    "### Graphs"
   ]
  },
  {
   "cell_type": "code",
   "execution_count": 5,
   "metadata": {},
   "outputs": [],
   "source": [
    "#example graph\n",
    "g = {'A': ['B', 'C'],\n",
    "    'B': ['A', 'C', 'D'],\n",
    "    'C': ['A', 'B', 'D'],\n",
    "    'D': ['B', 'C']}"
   ]
  },
  {
   "cell_type": "code",
   "execution_count": 6,
   "metadata": {},
   "outputs": [],
   "source": [
    "#turn to network x\n",
    "G = nx.Graph(g)"
   ]
  },
  {
   "cell_type": "code",
   "execution_count": 7,
   "metadata": {},
   "outputs": [
    {
     "data": {
      "image/png": "[encoded data removed]",
      "text/plain": [
       "<Figure size 432x288 with 1 Axes>"
      ]
     },
     "metadata": {},
     "output_type": "display_data"
    }
   ],
   "source": [
    "#draw it\n",
    "nx.draw(G, with_labels = True, node_color = 'lightblue')"
   ]
  },
  {
   "cell_type": "markdown",
   "metadata": {},
   "source": [
    "### Depth First Search\n",
    "\n",
    "Uses a LIFO structure -- this means we want to move things in and out the end of a collection.  Our list can do just this, but we will wrap this functionality in a `Stack` class."
   ]
  },
  {
   "cell_type": "code",
   "execution_count": 8,
   "metadata": {},
   "outputs": [],
   "source": [
    "#graph with sets\n",
    "g = {'A': set(['B', 'C']),\n",
    "    'B': set(['A', 'C', 'D']),\n",
    "    'C': set(['A', 'B', 'D']),\n",
    "    'D': set(['B', 'C'])}"
   ]
  },
  {
   "cell_type": "code",
   "execution_count": 9,
   "metadata": {},
   "outputs": [],
   "source": [
    "def recursive_dfs(graph, s, S = None):\n",
    "    if S is None: S = set()\n",
    "    S.add(s) #add start to visited nodes\n",
    "    for u in graph:\n",
    "        if u in S:\n",
    "            continue\n",
    "        recursive_dfs(graph, u, S)\n",
    "        \n",
    "    "
   ]
  },
  {
   "cell_type": "code",
   "execution_count": 10,
   "metadata": {},
   "outputs": [],
   "source": [
    "recursive_dfs(g, 'D')"
   ]
  },
  {
   "cell_type": "code",
   "execution_count": 11,
   "metadata": {},
   "outputs": [],
   "source": [
    "#define the stack class\n",
    "class Stack:\n",
    "    def __init__(self):\n",
    "        self.container = []\n",
    "    @property\n",
    "    def empty(self):\n",
    "        return not self.container\n",
    "    def push(self, item):\n",
    "        self.container.append(item)\n",
    "    def pop(self):\n",
    "        return self.container.pop()\n",
    "    "
   ]
  },
  {
   "cell_type": "code",
   "execution_count": 12,
   "metadata": {},
   "outputs": [],
   "source": [
    "#node class to track moves\n",
    "class Node:\n",
    "    def __init__(self, state, parent, cost = 0.0, heuristic = 0.0):\n",
    "        self.state = state\n",
    "        self.parent = parent\n",
    "        self.cost = cost\n",
    "        self.heuristic = heuristic\n",
    "        \n",
    "    def __lt__(self, other):\n",
    "        return (self.cost + self.heuristic) < (other.cost + other.heuristic)"
   ]
  },
  {
   "cell_type": "code",
   "execution_count": 13,
   "metadata": {},
   "outputs": [],
   "source": [
    "#depth first search\n",
    "def dfs(initial, goal_test, successors):\n",
    "    frontier = Stack()\n",
    "    frontier.push(Node(initial, None))\n",
    "    explored = {initial}\n",
    "    \n",
    "    while not frontier.empty:\n",
    "        current_node = frontier.pop()\n",
    "        current_state = current_node.state\n",
    "        if goal_test(current_state):\n",
    "            return current_node\n",
    "        for child in successors(current_state):\n",
    "            if child in explored:\n",
    "                continue\n",
    "            explored.add(child)\n",
    "            frontier.push(Node(child, current_node))\n",
    "    return None\n",
    "\n",
    "\n",
    "def bfs(initial, goal_test, successors):\n",
    "    frontier = Queue()\n",
    "    frontier.push(Node(initial, None))\n",
    "    explored = {initial}\n",
    "    \n",
    "    while not frontier.empty:\n",
    "        current_node = frontier.pop()\n",
    "        current_state = current_node.state\n",
    "        if goal_test(current_state):\n",
    "            return current_node\n",
    "        for child in successors(current_state):\n",
    "            if child in explored:\n",
    "                continue\n",
    "            explored.add(child)\n",
    "            frontier.push(Node(child, current_node))\n",
    "    return None"
   ]
  },
  {
   "cell_type": "code",
   "execution_count": 14,
   "metadata": {},
   "outputs": [],
   "source": [
    "#helper function to keep track of path\n",
    "def node_to_path(node):\n",
    "    path = [node.state]\n",
    "    while node.parent is not None:\n",
    "        node = node.parent\n",
    "        path.append(node.state)\n",
    "    path.reverse()\n",
    "    return path"
   ]
  },
  {
   "cell_type": "code",
   "execution_count": 15,
   "metadata": {},
   "outputs": [],
   "source": [
    "from mazeutils import Maze"
   ]
  },
  {
   "cell_type": "code",
   "execution_count": 16,
   "metadata": {},
   "outputs": [],
   "source": [
    "#create a maze\n",
    "maze = Maze(sparseness=0.15)"
   ]
  },
  {
   "cell_type": "code",
   "execution_count": 17,
   "metadata": {},
   "outputs": [
    {
     "name": "stdout",
     "output_type": "stream",
     "text": [
      "S         \n",
      "   X      \n",
      "  X       \n",
      "X      X  \n",
      "  X      X\n",
      " X    X X \n",
      "          \n",
      "          \n",
      "          \n",
      "  X      G\n",
      "\n"
     ]
    }
   ],
   "source": [
    "#print the maze\n",
    "print(maze)"
   ]
  },
  {
   "cell_type": "code",
   "execution_count": 18,
   "metadata": {},
   "outputs": [],
   "source": [
    "#find solution with dfs\n",
    "dfs_soln = dfs(maze.start, maze.goal_test, maze.successors)"
   ]
  },
  {
   "cell_type": "code",
   "execution_count": 19,
   "metadata": {},
   "outputs": [],
   "source": [
    "#get the path\n",
    "dfs_path = node_to_path(dfs_soln)"
   ]
  },
  {
   "cell_type": "code",
   "execution_count": 20,
   "metadata": {},
   "outputs": [],
   "source": [
    "#mark the path\n",
    "maze.mark(dfs_path)"
   ]
  },
  {
   "cell_type": "code",
   "execution_count": 21,
   "metadata": {},
   "outputs": [
    {
     "name": "stdout",
     "output_type": "stream",
     "text": [
      "S*********\n",
      "   X     *\n",
      "  X*******\n",
      "X***   X  \n",
      "**X      X\n",
      "*X    X X \n",
      "**********\n",
      "         *\n",
      "         *\n",
      "  X      G\n",
      "\n"
     ]
    }
   ],
   "source": [
    "#print maze with solution\n",
    "print(maze)"
   ]
  },
  {
   "cell_type": "markdown",
   "metadata": {},
   "source": [
    "### Breadth First Search\n",
    "\n",
    "The main difference here is that we will use a different data structure -- a queue -- that operates in a *First In First Out* order.  To implement here, we use a `deque` rather than a `list`."
   ]
  },
  {
   "cell_type": "code",
   "execution_count": 22,
   "metadata": {},
   "outputs": [],
   "source": [
    "from typing import Deque"
   ]
  },
  {
   "cell_type": "code",
   "execution_count": 23,
   "metadata": {},
   "outputs": [],
   "source": [
    "#queue class\n",
    "class Queue:\n",
    "    def __init__(self):\n",
    "        self.container = Deque()\n",
    "    @property\n",
    "    def empty(self):\n",
    "        return not self.container\n",
    "    def push(self, item):\n",
    "        self.container.append(item)\n",
    "    def pop(self):\n",
    "        return self.container.popleft()"
   ]
  },
  {
   "cell_type": "code",
   "execution_count": 24,
   "metadata": {},
   "outputs": [],
   "source": [
    "#bread first search function\n",
    "def bfs(initial, goal_test, successors):\n",
    "    frontier = Queue()\n",
    "    frontier.push(Node(initial, None))\n",
    "    explored = {initial}\n",
    "    \n",
    "    while not frontier.empty:\n",
    "        current_node = frontier.pop()\n",
    "        current_state = current_node.state\n",
    "        if goal_test(current_state):\n",
    "            return current_node\n",
    "        for child in successors(current_state):\n",
    "            if child in explored:\n",
    "                continue\n",
    "            explored.add(child)\n",
    "            frontier.push(Node(child, current_node))\n",
    "    return None"
   ]
  },
  {
   "cell_type": "code",
   "execution_count": 25,
   "metadata": {},
   "outputs": [],
   "source": [
    "#solution\n",
    "bfs_soln = bfs(maze.start, maze.goal_test, maze.successors)"
   ]
  },
  {
   "cell_type": "code",
   "execution_count": 26,
   "metadata": {},
   "outputs": [],
   "source": [
    "#path\n",
    "bfs_path = node_to_path(bfs_soln)"
   ]
  },
  {
   "cell_type": "code",
   "execution_count": 27,
   "metadata": {},
   "outputs": [],
   "source": [
    "#mark graph\n",
    "maze.clear(dfs_path)"
   ]
  },
  {
   "cell_type": "code",
   "execution_count": 28,
   "metadata": {},
   "outputs": [],
   "source": [
    "#print it\n",
    "maze.mark(bfs_path)"
   ]
  },
  {
   "cell_type": "code",
   "execution_count": 29,
   "metadata": {},
   "outputs": [
    {
     "name": "stdout",
     "output_type": "stream",
     "text": [
      "S         \n",
      "*  X      \n",
      "**X       \n",
      "X***   X  \n",
      "  X*     X\n",
      " X *  X X \n",
      "   *      \n",
      "   *      \n",
      "   *      \n",
      "  X******G\n",
      "\n"
     ]
    }
   ],
   "source": [
    "print(maze)"
   ]
  },
  {
   "cell_type": "markdown",
   "metadata": {},
   "source": [
    "### **$A^*$** Search\n",
    "\n",
    "Finally, we look at a way to tweak our bfs approach to use a heuristic function to determine the quality of a move getting us closer to the goal state. We adjust our queue to prioritize the heuristic."
   ]
  },
  {
   "cell_type": "code",
   "execution_count": 30,
   "metadata": {},
   "outputs": [],
   "source": [
    "from heapq import heappush, heappop"
   ]
  },
  {
   "cell_type": "code",
   "execution_count": 31,
   "metadata": {},
   "outputs": [],
   "source": [
    "#define the priority queue\n",
    "class PriorityQueue:\n",
    "    def __init__(self):\n",
    "        self.container = []\n",
    "    @property\n",
    "    def empty(self):\n",
    "        return not self.container\n",
    "    def push(self, item):\n",
    "        heappush(self.container, item)\n",
    "    def pop(self):\n",
    "        return heappop(self.container)"
   ]
  },
  {
   "cell_type": "code",
   "execution_count": 32,
   "metadata": {},
   "outputs": [],
   "source": [
    "#astar search\n",
    "def astar(initial, goal_test, successors, heuristic):\n",
    "    frontier = PriorityQueue()\n",
    "    frontier.push(Node(initial, None, 0, heuristic(initial)))\n",
    "    explored = {initial: 0}\n",
    "    \n",
    "    while not frontier.empty:\n",
    "        current_node = frontier.pop()\n",
    "        current_state = current_node.state\n",
    "        if goal_test(current_state):\n",
    "            return current_node\n",
    "        for child in successors(current_state):\n",
    "            new_cost = current_node.cost + 1\n",
    "            if child not in explored or explored[child] > new_cost:\n",
    "                explored[child] = new_cost\n",
    "                frontier.push(Node(child, current_node, new_cost, heuristic(child)))\n",
    "    return None"
   ]
  },
  {
   "cell_type": "code",
   "execution_count": 33,
   "metadata": {},
   "outputs": [],
   "source": [
    "from mazeutils import euclidean_dist"
   ]
  },
  {
   "cell_type": "code",
   "execution_count": 34,
   "metadata": {},
   "outputs": [],
   "source": [
    "#distance to maze goal\n",
    "distance = euclidean_dist(maze.goal)"
   ]
  },
  {
   "cell_type": "code",
   "execution_count": 35,
   "metadata": {},
   "outputs": [],
   "source": [
    "#one more solution\n",
    "astar_sol = astar(maze.start, maze.goal_test, maze.successors, distance)"
   ]
  },
  {
   "cell_type": "code",
   "execution_count": 36,
   "metadata": {},
   "outputs": [],
   "source": [
    "#find the path\n",
    "astar_path = node_to_path(astar_sol)"
   ]
  },
  {
   "cell_type": "code",
   "execution_count": 37,
   "metadata": {},
   "outputs": [],
   "source": [
    "#mark the graph\n",
    "maze.clear(bfs_path)"
   ]
  },
  {
   "cell_type": "code",
   "execution_count": 38,
   "metadata": {},
   "outputs": [],
   "source": [
    "maze.mark(astar_path)"
   ]
  },
  {
   "cell_type": "code",
   "execution_count": 39,
   "metadata": {},
   "outputs": [
    {
     "name": "stdout",
     "output_type": "stream",
     "text": [
      "S         \n",
      "** X      \n",
      " *X       \n",
      "X****  X  \n",
      "  X *    X\n",
      " X  **X X \n",
      "     **   \n",
      "      **  \n",
      "       ** \n",
      "  X     *G\n",
      "\n"
     ]
    }
   ],
   "source": [
    "#what is different from earlier?\n",
    "print(maze)"
   ]
  },
  {
   "cell_type": "code",
   "execution_count": 40,
   "metadata": {},
   "outputs": [
    {
     "name": "stdout",
     "output_type": "stream",
     "text": [
      "origin\thttps://github.com/jfkoehler/AAI-December.git (fetch)\n",
      "origin\thttps://github.com/jfkoehler/AAI-December.git (push)\n"
     ]
    }
   ],
   "source": [
    "!git remote -v"
   ]
  },
  {
   "cell_type": "markdown",
   "metadata": {},
   "source": [
    "#### Further Reading\n",
    "\n",
    "- [Classic Computer Science Problems in Python](https://www.manning.com/books/classic-computer-science-problems-in-python)\n",
    "- [Python Algorithms](https://www.apress.com/gp/book/9781484200568)"
   ]
  }
 ],
 "metadata": {
  "kernelspec": {
   "display_name": "Python 3",
   "language": "python",
   "name": "python3"
  },
  "language_info": {
   "codemirror_mode": {
    "name": "ipython",
    "version": 3
   },
   "file_extension": ".py",
   "mimetype": "text/x-python",
   "name": "python",
   "nbconvert_exporter": "python",
   "pygments_lexer": "ipython3",
   "version": "3.8.2"
  }
 },
 "nbformat": 4,
 "nbformat_minor": 4
}
